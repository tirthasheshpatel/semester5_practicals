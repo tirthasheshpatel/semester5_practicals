{
 "cells": [
  {
   "cell_type": "markdown",
   "metadata": {},
   "source": [
    "# Practical 11: Backpropogation in Neural Network"
   ]
  },
  {
   "cell_type": "code",
   "execution_count": 1,
   "metadata": {},
   "outputs": [],
   "source": [
    "import numpy as np"
   ]
  },
  {
   "cell_type": "code",
   "execution_count": 2,
   "metadata": {},
   "outputs": [],
   "source": [
    "def σ(x)        : return 1./(1. + np.exp(-x))\n",
    "def σ_prime(x)  : return σ(x) * ( 1 - σ(x) )"
   ]
  },
  {
   "cell_type": "code",
   "execution_count": null,
   "metadata": {},
   "outputs": [],
   "source": [
    "class NN:\n",
    "\n",
    "    INIT_METHODS = ['zeros', 'gaussian', 'xavier']\n",
    "    ACTIVATION_FNS = ['sigmoid', 'relu', 'softmax']\n",
    "    ACTIVATION_FN_DICT = {\n",
    "        'sigmoid': σ,\n",
    "        'sigmoid_prime': σ_prime,\n",
    "        'relu': ReLU,\n",
    "        'relu_prime': ReLU_prime\n",
    "    }\n",
    "\n",
    "    def __init__(self, layers, activations, init_method='xavier'):\n",
    "        assert init_method in self.INIT_METHODS\n",
    "        assert all(isinstance(i, int) for i in layers)\n",
    "        assert all(ac in self.ACTIVATION_FNS for ac in activations)\n",
    "        \n",
    "        self.layers = layers\n",
    "        self.activations = activations\n",
    "        self.init_method = init_method\n",
    "        "
   ]
  }
 ],
 "metadata": {
  "kernelspec": {
   "display_name": "Python 3",
   "language": "python",
   "name": "python3"
  },
  "language_info": {
   "codemirror_mode": {
    "name": "ipython",
    "version": 3
   },
   "file_extension": ".py",
   "mimetype": "text/x-python",
   "name": "python",
   "nbconvert_exporter": "python",
   "pygments_lexer": "ipython3",
   "version": "3.8.5"
  }
 },
 "nbformat": 4,
 "nbformat_minor": 4
}
