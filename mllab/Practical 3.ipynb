{
 "cells": [
  {
   "cell_type": "markdown",
   "metadata": {},
   "source": [
    "## Practical 3 : Linear Regression with Regularization"
   ]
  },
  {
   "cell_type": "code",
   "execution_count": 1,
   "metadata": {},
   "outputs": [],
   "source": [
    "import numpy as np\n",
    "from sklearn.preprocessing import StandardScaler\n",
    "from sklearn import datasets\n",
    "import matplotlib.pyplot as plt\n",
    "np.random.seed(123)"
   ]
  },
  {
   "cell_type": "code",
   "execution_count": 2,
   "metadata": {},
   "outputs": [
    {
     "name": "stdout",
     "output_type": "stream",
     "text": [
      "No of data samples : 506\n"
     ]
    }
   ],
   "source": [
    "# Load data\n",
    "X, y = datasets.load_boston(return_X_y=True)\n",
    "print(f\"No of data samples : {X.shape[0]}\")"
   ]
  },
  {
   "cell_type": "code",
   "execution_count": 3,
   "metadata": {},
   "outputs": [],
   "source": [
    "# Split into training and testing datasets\n",
    "M = 400                    # No. of samples in the training dataset\n",
    "N = X.shape[0] - M         # No. of samples in the testing dataset\n",
    "X_train, y_train = X[:M, ...], y[:M]\n",
    "X_test , y_test  = X[M:, ...], y[M:]"
   ]
  },
  {
   "cell_type": "code",
   "execution_count": 4,
   "metadata": {},
   "outputs": [],
   "source": [
    "# Reshape the data (sklearn is pedantic)\n",
    "y_train, y_test = y_train[:, None], y_test[:, None]"
   ]
  },
  {
   "cell_type": "code",
   "execution_count": 5,
   "metadata": {},
   "outputs": [],
   "source": [
    "# Normalize the data\n",
    "scaler = StandardScaler() # To scale the X_train and X_test datasets\n",
    "\n",
    "# Let's transform the X_train and X_test data\n",
    "X_train = scaler.fit_transform(X_train)\n",
    "X_test  = scaler.transform(X_test)"
   ]
  },
  {
   "cell_type": "code",
   "execution_count": 6,
   "metadata": {},
   "outputs": [],
   "source": [
    "X_train = np.c_[np.ones_like(X_train[:, 0]) , X_train]\n",
    "X_test  = np.c_[np.ones_like(X_test[:, 0])  , X_test ]"
   ]
  },
  {
   "cell_type": "markdown",
   "metadata": {},
   "source": [
    "## Ridge Regression ($L_2$ Regularization)"
   ]
  },
  {
   "cell_type": "code",
   "execution_count": 7,
   "metadata": {},
   "outputs": [],
   "source": [
    "# Let's initialize our weights\n",
    "w = np.random.randn(X_train.shape[-1], 1)"
   ]
  },
  {
   "cell_type": "code",
   "execution_count": 8,
   "metadata": {},
   "outputs": [],
   "source": [
    "def ridge_loss(y, y_pred, lam, w):\n",
    "    return 0.5 * np.mean((y - y_pred) ** 2) + lam * np.sum(w[1:]**2)\n",
    "\n",
    "def ridge_loss_grad(X, y, y_pred, lam, w):\n",
    "    return ((1./X.shape[0]) * X.T @ (y_pred - y) +\n",
    "            lam * np.r_[np.zeros_like(w[:1]), w[1:]])"
   ]
  },
  {
   "cell_type": "code",
   "execution_count": 9,
   "metadata": {},
   "outputs": [
    {
     "name": "stdout",
     "output_type": "stream",
     "text": [
      "Epochs : 99, loss_train : 16.3329, loss_test : 12.792495"
     ]
    }
   ],
   "source": [
    "# Start training now!\n",
    "import time\n",
    "import sys\n",
    "\n",
    "epochs = 100\n",
    "alpha  = 0.03\n",
    "lam    = 0.1\n",
    "train_losses = []\n",
    "test_losses  = []\n",
    "for _ in range(epochs):\n",
    "    y_pred = X_train @ w\n",
    "    w_grad = ridge_loss_grad(X_train, y_train, y_pred, lam, w)\n",
    "    w = w - alpha * w_grad\n",
    "    sys.stdout.write(f\"\\rEpochs : {_}, loss_train : {ridge_loss(y_train, y_pred, lam, w):.4f}, loss_test : {ridge_loss(y_test, X_test @ w, lam, w):.4f}\")\n",
    "    train_losses.append(ridge_loss(y_train, y_pred, lam, w))\n",
    "    test_losses.append(ridge_loss(y_test, X_test @ w, lam, w))\n",
    "    time.sleep(0.05)"
   ]
  },
  {
   "cell_type": "code",
   "execution_count": 10,
   "metadata": {},
   "outputs": [
    {
     "data": {
      "image/png": "[encoded data removed]",
      "text/plain": [
       "<Figure size 432x288 with 1 Axes>"
      ]
     },
     "metadata": {
      "needs_background": "light"
     },
     "output_type": "display_data"
    }
   ],
   "source": [
    "import matplotlib.pyplot as plt\n",
    "\n",
    "plt.plot(train_losses, color='r', label=\"Train loss\")\n",
    "plt.plot(test_losses, color='g', label=\"Test loss\")\n",
    "plt.title(\"Train and Test Loss\")\n",
    "plt.xlabel(\"epochs\")\n",
    "plt.ylabel(\"loss value\")\n",
    "plt.legend()\n",
    "plt.show()"
   ]
  },
  {
   "cell_type": "markdown",
   "metadata": {},
   "source": [
    "## Ridge Regression using Normal Equations"
   ]
  },
  {
   "cell_type": "code",
   "execution_count": 11,
   "metadata": {},
   "outputs": [
    {
     "name": "stdout",
     "output_type": "stream",
     "text": [
      "Best train loss for Ridge Regression with lambda=0.1 : 16.67322284771611\n",
      "Best test  loss for Ridge Regression with lambda=0.1 : 24.444776537019912\n"
     ]
    }
   ],
   "source": [
    "lam = .1\n",
    "side_mat = lam * np.eye(X_train.shape[-1])\n",
    "side_mat[0, 0] = 0\n",
    "try:\n",
    "    w_hat = np.linalg.solve((X_train.T @ X_train + side_mat), X_train.T @ y_train)\n",
    "    y_train_hat = X_train @ w_hat\n",
    "    y_test_hat  = X_test  @ w_hat\n",
    "    print(f\"Best train loss for Ridge Regression with lambda={lam} : {ridge_loss(y_train, y_train_hat, lam, w_hat)}\")\n",
    "    print(f\"Best test  loss for Ridge Regression with lambda={lam} : {ridge_loss(y_test, y_test_hat, lam, w_hat)}\")\n",
    "except:\n",
    "    print(\"Training matrix not invertible!!!\")"
   ]
  },
  {
   "cell_type": "code",
   "execution_count": 12,
   "metadata": {},
   "outputs": [],
   "source": [
    "def loss(y, y_pred):\n",
    "    return 0.5 * np.mean((y - y_pred)[..., 0] ** 2, axis=-1)"
   ]
  },
  {
   "cell_type": "code",
   "execution_count": 13,
   "metadata": {},
   "outputs": [],
   "source": [
    "min_lam = 0.\n",
    "max_lam = 200.\n",
    "num_lam = 500\n",
    "\n",
    "lams = np.linspace(min_lam, max_lam, num=num_lam)[:, np.newaxis, np.newaxis]\n",
    "\n",
    "side_mat = lams * np.eye(X_train.shape[-1])\n",
    "side_mat[..., 0, 0] = 0\n",
    "\n",
    "w_hat = np.linalg.solve(X_train.T @ X_train + side_mat,\n",
    "                        np.repeat((X_train.T @ y_train).T, lams.size, axis=0))\n",
    "\n",
    "w_hat = w_hat[..., None]\n",
    "\n",
    "y_train_hat = X_train @ w_hat\n",
    "y_test_hat  = X_test  @ w_hat\n",
    "\n",
    "train_losses = loss(y_train, y_train_hat)\n",
    "test_losses  = loss(y_test, y_test_hat)"
   ]
  },
  {
   "cell_type": "code",
   "execution_count": 14,
   "metadata": {},
   "outputs": [
    {
     "data": {
      "image/png": "[encoded data removed]",
      "text/plain": [
       "<Figure size 432x288 with 1 Axes>"
      ]
     },
     "metadata": {
      "needs_background": "light"
     },
     "output_type": "display_data"
    }
   ],
   "source": [
    "plt.plot(lams[..., 0, 0], train_losses, color='r', label=\"Train loss\")\n",
    "plt.plot(lams[..., 0, 0], test_losses, color='g', label=\"Test loss\")\n",
    "plt.title(\"Train and Test Loss with different lambdas\")\n",
    "plt.xlabel(\"lambda\")\n",
    "plt.ylabel(\"loss value\")\n",
    "plt.legend()\n",
    "plt.show()"
   ]
  },
  {
   "cell_type": "markdown",
   "metadata": {},
   "source": [
    "## Lasso Regression ($L_1$ Regularization)"
   ]
  },
  {
   "cell_type": "code",
   "execution_count": 15,
   "metadata": {},
   "outputs": [],
   "source": [
    "# Let's initialize our weights\n",
    "w = np.random.randn(X_train.shape[-1], 1)"
   ]
  },
  {
   "cell_type": "code",
   "execution_count": 16,
   "metadata": {},
   "outputs": [],
   "source": [
    "def lasso_loss(y, y_pred, lam, w):\n",
    "    return 0.5 * np.mean((y - y_pred) ** 2) + lam * np.sum(np.abs(w[1:]))\n",
    "\n",
    "def lasso_loss_grad(X, y, y_pred, lam, w):\n",
    "    return ((1./X.shape[0]) * X.T @ (y_pred - y) +\n",
    "            lam * np.r_[np.zeros_like(w[:1]), np.ones_like(w[1:])])"
   ]
  },
  {
   "cell_type": "code",
   "execution_count": 17,
   "metadata": {},
   "outputs": [
    {
     "name": "stdout",
     "output_type": "stream",
     "text": [
      "Epochs : 99, loss_train : 14.0955, loss_test : 12.729661"
     ]
    }
   ],
   "source": [
    "# Start training now!\n",
    "import time\n",
    "import sys\n",
    "\n",
    "epochs = 100\n",
    "alpha  = 0.03\n",
    "lam    = 0.1\n",
    "train_losses = []\n",
    "test_losses  = []\n",
    "for _ in range(epochs):\n",
    "    y_pred = X_train @ w\n",
    "    w_grad = lasso_loss_grad(X_train, y_train, y_pred, lam, w)\n",
    "    w = w - alpha * w_grad\n",
    "    sys.stdout.write(f\"\\rEpochs : {_}, loss_train : {lasso_loss(y_train, y_pred, lam, w):.4f}, loss_test : {lasso_loss(y_test, X_test @ w, lam, w):.4f}\")\n",
    "    train_losses.append(lasso_loss(y_train, y_pred, lam, w))\n",
    "    test_losses.append(lasso_loss(y_test, X_test @ w, lam, w))\n",
    "    time.sleep(0.05)"
   ]
  },
  {
   "cell_type": "code",
   "execution_count": 18,
   "metadata": {},
   "outputs": [
    {
     "data": {
      "image/png": "[encoded data removed]",
      "text/plain": [
       "<Figure size 432x288 with 1 Axes>"
      ]
     },
     "metadata": {
      "needs_background": "light"
     },
     "output_type": "display_data"
    }
   ],
   "source": [
    "import matplotlib.pyplot as plt\n",
    "\n",
    "plt.plot(train_losses, color='r', label=\"Train loss\")\n",
    "plt.plot(test_losses, color='g', label=\"Test loss\")\n",
    "plt.title(\"Train and Test Loss\")\n",
    "plt.xlabel(\"epochs\")\n",
    "plt.ylabel(\"loss value\")\n",
    "plt.legend()\n",
    "plt.show()"
   ]
  },
  {
   "cell_type": "code",
   "execution_count": null,
   "metadata": {},
   "outputs": [],
   "source": []
  }
 ],
 "metadata": {
  "kernelspec": {
   "display_name": "Python 3",
   "language": "python",
   "name": "python3"
  },
  "language_info": {
   "codemirror_mode": {
    "name": "ipython",
    "version": 3
   },
   "file_extension": ".py",
   "mimetype": "text/x-python",
   "name": "python",
   "nbconvert_exporter": "python",
   "pygments_lexer": "ipython3",
   "version": "3.8.5"
  }
 },
 "nbformat": 4,
 "nbformat_minor": 4
}
