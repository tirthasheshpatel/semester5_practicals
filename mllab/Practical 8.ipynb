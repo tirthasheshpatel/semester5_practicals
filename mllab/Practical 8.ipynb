{
 "cells": [
  {
   "cell_type": "markdown",
   "metadata": {},
   "source": [
    "# Practical 8: Grid Search"
   ]
  },
  {
   "cell_type": "markdown",
   "metadata": {},
   "source": [
    "## Grid Search with KNN"
   ]
  },
  {
   "cell_type": "code",
   "execution_count": 1,
   "metadata": {},
   "outputs": [],
   "source": [
    "from pprint import pprint\n",
    "\n",
    "import numpy as np\n",
    "from sklearn.datasets import load_iris\n",
    "from sklearn.neighbors import KNeighborsClassifier\n",
    "from sklearn.svm import LinearSVC\n",
    "from sklearn.model_selection import GridSearchCV\n",
    "from sklearn.metrics import confusion_matrix, classification_report, accuracy_score\n",
    "import matplotlib.pyplot as plt"
   ]
  },
  {
   "cell_type": "code",
   "execution_count": 2,
   "metadata": {},
   "outputs": [],
   "source": [
    "X, y = load_iris(return_X_y=True)\n",
    "\n",
    "X_train, y_train = X[0:150:2, ...], y[0:150:2]\n",
    "X_test, y_test = X[1:150:2, ...], y[1:150:2]"
   ]
  },
  {
   "cell_type": "code",
   "execution_count": 3,
   "metadata": {},
   "outputs": [],
   "source": [
    "param_grid = {\n",
    "    'n_neighbors': [1, 5, 10, 20],\n",
    "    'weights'    : ['distance', 'uniform']\n",
    "}"
   ]
  },
  {
   "cell_type": "code",
   "execution_count": 4,
   "metadata": {},
   "outputs": [],
   "source": [
    "knn_model = KNeighborsClassifier()"
   ]
  },
  {
   "cell_type": "code",
   "execution_count": 5,
   "metadata": {},
   "outputs": [],
   "source": [
    "search_model = GridSearchCV(knn_model, param_grid, n_jobs=-1, scoring='accuracy')"
   ]
  },
  {
   "cell_type": "code",
   "execution_count": 6,
   "metadata": {},
   "outputs": [
    {
     "data": {
      "text/plain": [
       "GridSearchCV(estimator=KNeighborsClassifier(), n_jobs=-1,\n",
       "             param_grid={'n_neighbors': [1, 5, 10, 20],\n",
       "                         'weights': ['distance', 'uniform']},\n",
       "             scoring='accuracy')"
      ]
     },
     "execution_count": 6,
     "metadata": {},
     "output_type": "execute_result"
    }
   ],
   "source": [
    "search_model.fit(X_train, y_train)"
   ]
  },
  {
   "cell_type": "code",
   "execution_count": 7,
   "metadata": {},
   "outputs": [
    {
     "name": "stdout",
     "output_type": "stream",
     "text": [
      "{'n_neighbors': 5, 'weights': 'distance'}\n"
     ]
    }
   ],
   "source": [
    "print(search_model.best_params_)"
   ]
  },
  {
   "cell_type": "code",
   "execution_count": 8,
   "metadata": {},
   "outputs": [],
   "source": [
    "y_pred = search_model.predict(X_test)"
   ]
  },
  {
   "cell_type": "code",
   "execution_count": 9,
   "metadata": {},
   "outputs": [
    {
     "name": "stdout",
     "output_type": "stream",
     "text": [
      "accuracy : 0.9866666666666667\n"
     ]
    }
   ],
   "source": [
    "print(f\"accuracy : {accuracy_score(y_test, y_pred)}\")"
   ]
  },
  {
   "cell_type": "code",
   "execution_count": 10,
   "metadata": {},
   "outputs": [
    {
     "name": "stdout",
     "output_type": "stream",
     "text": [
      "[[25  0  0]\n",
      " [ 0 24  1]\n",
      " [ 0  0 25]]\n"
     ]
    }
   ],
   "source": [
    "print(confusion_matrix(y_test, y_pred))"
   ]
  },
  {
   "cell_type": "code",
   "execution_count": 11,
   "metadata": {},
   "outputs": [
    {
     "name": "stdout",
     "output_type": "stream",
     "text": [
      "              precision    recall  f1-score   support\n",
      "\n",
      "           0       1.00      1.00      1.00        25\n",
      "           1       1.00      0.96      0.98        25\n",
      "           2       0.96      1.00      0.98        25\n",
      "\n",
      "    accuracy                           0.99        75\n",
      "   macro avg       0.99      0.99      0.99        75\n",
      "weighted avg       0.99      0.99      0.99        75\n",
      "\n"
     ]
    }
   ],
   "source": [
    "print(classification_report(y_test, y_pred))"
   ]
  },
  {
   "cell_type": "code",
   "execution_count": 12,
   "metadata": {},
   "outputs": [
    {
     "name": "stdout",
     "output_type": "stream",
     "text": [
      "{'mean_fit_time': array([0.00123749, 0.00104709, 0.00074739, 0.00093012, 0.00112505,\n",
      "       0.00167999, 0.00113368, 0.00099649]),\n",
      " 'mean_score_time': array([0.00216441, 0.0022963 , 0.00125699, 0.00230079, 0.0017117 ,\n",
      "       0.00364871, 0.00178022, 0.00270152]),\n",
      " 'mean_test_score': array([0.94666667, 0.94666667, 0.96      , 0.96      , 0.96      ,\n",
      "       0.94666667, 0.93333333, 0.92      ]),\n",
      " 'param_n_neighbors': masked_array(data=[1, 1, 5, 5, 10, 10, 20, 20],\n",
      "             mask=[False, False, False, False, False, False, False, False],\n",
      "       fill_value='?',\n",
      "            dtype=object),\n",
      " 'param_weights': masked_array(data=['distance', 'uniform', 'distance', 'uniform',\n",
      "                   'distance', 'uniform', 'distance', 'uniform'],\n",
      "             mask=[False, False, False, False, False, False, False, False],\n",
      "       fill_value='?',\n",
      "            dtype=object),\n",
      " 'params': [{'n_neighbors': 1, 'weights': 'distance'},\n",
      "            {'n_neighbors': 1, 'weights': 'uniform'},\n",
      "            {'n_neighbors': 5, 'weights': 'distance'},\n",
      "            {'n_neighbors': 5, 'weights': 'uniform'},\n",
      "            {'n_neighbors': 10, 'weights': 'distance'},\n",
      "            {'n_neighbors': 10, 'weights': 'uniform'},\n",
      "            {'n_neighbors': 20, 'weights': 'distance'},\n",
      "            {'n_neighbors': 20, 'weights': 'uniform'}],\n",
      " 'rank_test_score': array([4, 4, 1, 1, 1, 4, 7, 8], dtype=int32),\n",
      " 'split0_test_score': array([0.93333333, 0.93333333, 0.93333333, 0.86666667, 0.93333333,\n",
      "       0.86666667, 0.8       , 0.8       ]),\n",
      " 'split1_test_score': array([1., 1., 1., 1., 1., 1., 1., 1.]),\n",
      " 'split2_test_score': array([0.86666667, 0.86666667, 0.93333333, 1.        , 0.93333333,\n",
      "       0.93333333, 0.93333333, 0.93333333]),\n",
      " 'split3_test_score': array([0.93333333, 0.93333333, 0.93333333, 0.93333333, 0.93333333,\n",
      "       0.93333333, 0.93333333, 0.93333333]),\n",
      " 'split4_test_score': array([1.        , 1.        , 1.        , 1.        , 1.        ,\n",
      "       1.        , 1.        , 0.93333333]),\n",
      " 'std_fit_time': array([1.88039003e-04, 1.95865087e-04, 1.50854985e-04, 1.11943898e-04,\n",
      "       4.54280496e-04, 1.45325226e-03, 2.52767775e-04, 7.66558705e-05]),\n",
      " 'std_score_time': array([0.00056457, 0.00028679, 0.00020801, 0.00039176, 0.0003314 ,\n",
      "       0.00139926, 0.00013417, 0.00033233]),\n",
      " 'std_test_score': array([0.04988877, 0.04988877, 0.03265986, 0.05333333, 0.03265986,\n",
      "       0.04988877, 0.07302967, 0.06531973])}\n"
     ]
    }
   ],
   "source": [
    "pprint(search_model.cv_results_)"
   ]
  },
  {
   "cell_type": "code",
   "execution_count": 13,
   "metadata": {},
   "outputs": [
    {
     "data": {
      "text/plain": [
       "2"
      ]
     },
     "execution_count": 13,
     "metadata": {},
     "output_type": "execute_result"
    }
   ],
   "source": [
    "search_model.best_index_"
   ]
  },
  {
   "cell_type": "markdown",
   "metadata": {},
   "source": [
    "## Grid Search with SVM"
   ]
  },
  {
   "cell_type": "code",
   "execution_count": 14,
   "metadata": {},
   "outputs": [],
   "source": [
    "param_grid = {\n",
    "    'penalty': ['l1', 'l2'],\n",
    "    'loss'   : ['hinge', 'squared_hinge'],\n",
    "    'C'      : [0.5, 1.0, 2.0, 5.0, 10.0]\n",
    "}"
   ]
  },
  {
   "cell_type": "code",
   "execution_count": 15,
   "metadata": {},
   "outputs": [],
   "source": [
    "svc_model = LinearSVC()"
   ]
  },
  {
   "cell_type": "code",
   "execution_count": 16,
   "metadata": {},
   "outputs": [],
   "source": [
    "search_model = GridSearchCV(svc_model, param_grid, n_jobs=-1, scoring='accuracy')"
   ]
  },
  {
   "cell_type": "code",
   "execution_count": 17,
   "metadata": {},
   "outputs": [
    {
     "name": "stderr",
     "output_type": "stream",
     "text": [
      "/home/tirthasheshpatel/.local/lib/python3.8/site-packages/sklearn/svm/_base.py:976: ConvergenceWarning: Liblinear failed to converge, increase the number of iterations.\n",
      "  warnings.warn(\"Liblinear failed to converge, increase \"\n"
     ]
    },
    {
     "data": {
      "text/plain": [
       "GridSearchCV(estimator=LinearSVC(), n_jobs=-1,\n",
       "             param_grid={'C': [0.5, 1.0, 2.0, 5.0, 10.0],\n",
       "                         'loss': ['hinge', 'squared_hinge'],\n",
       "                         'penalty': ['l1', 'l2']},\n",
       "             scoring='accuracy')"
      ]
     },
     "execution_count": 17,
     "metadata": {},
     "output_type": "execute_result"
    }
   ],
   "source": [
    "search_model.fit(X_train, y_train)"
   ]
  },
  {
   "cell_type": "code",
   "execution_count": 18,
   "metadata": {},
   "outputs": [
    {
     "name": "stdout",
     "output_type": "stream",
     "text": [
      "{'C': 2.0, 'loss': 'squared_hinge', 'penalty': 'l2'}\n"
     ]
    }
   ],
   "source": [
    "print(search_model.best_params_)"
   ]
  },
  {
   "cell_type": "code",
   "execution_count": 19,
   "metadata": {},
   "outputs": [],
   "source": [
    "y_pred = search_model.predict(X_test)"
   ]
  },
  {
   "cell_type": "code",
   "execution_count": 20,
   "metadata": {},
   "outputs": [
    {
     "name": "stdout",
     "output_type": "stream",
     "text": [
      "accuracy : 0.96\n"
     ]
    }
   ],
   "source": [
    "print(f\"accuracy : {accuracy_score(y_test, y_pred)}\")"
   ]
  },
  {
   "cell_type": "code",
   "execution_count": 21,
   "metadata": {},
   "outputs": [
    {
     "name": "stdout",
     "output_type": "stream",
     "text": [
      "[[25  0  0]\n",
      " [ 0 24  1]\n",
      " [ 0  2 23]]\n"
     ]
    }
   ],
   "source": [
    "print(confusion_matrix(y_test, y_pred))"
   ]
  },
  {
   "cell_type": "code",
   "execution_count": 22,
   "metadata": {},
   "outputs": [
    {
     "name": "stdout",
     "output_type": "stream",
     "text": [
      "              precision    recall  f1-score   support\n",
      "\n",
      "           0       1.00      1.00      1.00        25\n",
      "           1       0.92      0.96      0.94        25\n",
      "           2       0.96      0.92      0.94        25\n",
      "\n",
      "    accuracy                           0.96        75\n",
      "   macro avg       0.96      0.96      0.96        75\n",
      "weighted avg       0.96      0.96      0.96        75\n",
      "\n"
     ]
    }
   ],
   "source": [
    "print(classification_report(y_test, y_pred))"
   ]
  },
  {
   "cell_type": "code",
   "execution_count": 23,
   "metadata": {},
   "outputs": [
    {
     "name": "stdout",
     "output_type": "stream",
     "text": [
      "{'mean_fit_time': array([0.00061183, 0.0020421 , 0.00053139, 0.00381536, 0.00060363,\n",
      "       0.0018898 , 0.00064588, 0.00352216, 0.00076375, 0.0026484 ,\n",
      "       0.0008472 , 0.00449581, 0.00100756, 0.0028203 , 0.00064654,\n",
      "       0.00358768, 0.0006732 , 0.00335116, 0.00077519, 0.00315976]),\n",
      " 'mean_score_time': array([0.        , 0.0004571 , 0.        , 0.00061364, 0.        ,\n",
      "       0.00046411, 0.        , 0.00048261, 0.        , 0.00084252,\n",
      "       0.        , 0.00056391, 0.        , 0.00049095, 0.        ,\n",
      "       0.00058255, 0.        , 0.00068827, 0.        , 0.00035172]),\n",
      " 'mean_test_score': array([       nan, 0.86666667,        nan, 0.96      ,        nan,\n",
      "       0.93333333,        nan, 0.96      ,        nan, 0.93333333,\n",
      "              nan, 0.97333333,        nan, 0.94666667,        nan,\n",
      "       0.96      ,        nan, 0.94666667,        nan, 0.94666667]),\n",
      " 'param_C': masked_array(data=[0.5, 0.5, 0.5, 0.5, 1.0, 1.0, 1.0, 1.0, 2.0, 2.0, 2.0,\n",
      "                   2.0, 5.0, 5.0, 5.0, 5.0, 10.0, 10.0, 10.0, 10.0],\n",
      "             mask=[False, False, False, False, False, False, False, False,\n",
      "                   False, False, False, False, False, False, False, False,\n",
      "                   False, False, False, False],\n",
      "       fill_value='?',\n",
      "            dtype=object),\n",
      " 'param_loss': masked_array(data=['hinge', 'hinge', 'squared_hinge', 'squared_hinge',\n",
      "                   'hinge', 'hinge', 'squared_hinge', 'squared_hinge',\n",
      "                   'hinge', 'hinge', 'squared_hinge', 'squared_hinge',\n",
      "                   'hinge', 'hinge', 'squared_hinge', 'squared_hinge',\n",
      "                   'hinge', 'hinge', 'squared_hinge', 'squared_hinge'],\n",
      "             mask=[False, False, False, False, False, False, False, False,\n",
      "                   False, False, False, False, False, False, False, False,\n",
      "                   False, False, False, False],\n",
      "       fill_value='?',\n",
      "            dtype=object),\n",
      " 'param_penalty': masked_array(data=['l1', 'l2', 'l1', 'l2', 'l1', 'l2', 'l1', 'l2', 'l1',\n",
      "                   'l2', 'l1', 'l2', 'l1', 'l2', 'l1', 'l2', 'l1', 'l2',\n",
      "                   'l1', 'l2'],\n",
      "             mask=[False, False, False, False, False, False, False, False,\n",
      "                   False, False, False, False, False, False, False, False,\n",
      "                   False, False, False, False],\n",
      "       fill_value='?',\n",
      "            dtype=object),\n",
      " 'params': [{'C': 0.5, 'loss': 'hinge', 'penalty': 'l1'},\n",
      "            {'C': 0.5, 'loss': 'hinge', 'penalty': 'l2'},\n",
      "            {'C': 0.5, 'loss': 'squared_hinge', 'penalty': 'l1'},\n",
      "            {'C': 0.5, 'loss': 'squared_hinge', 'penalty': 'l2'},\n",
      "            {'C': 1.0, 'loss': 'hinge', 'penalty': 'l1'},\n",
      "            {'C': 1.0, 'loss': 'hinge', 'penalty': 'l2'},\n",
      "            {'C': 1.0, 'loss': 'squared_hinge', 'penalty': 'l1'},\n",
      "            {'C': 1.0, 'loss': 'squared_hinge', 'penalty': 'l2'},\n",
      "            {'C': 2.0, 'loss': 'hinge', 'penalty': 'l1'},\n",
      "            {'C': 2.0, 'loss': 'hinge', 'penalty': 'l2'},\n",
      "            {'C': 2.0, 'loss': 'squared_hinge', 'penalty': 'l1'},\n",
      "            {'C': 2.0, 'loss': 'squared_hinge', 'penalty': 'l2'},\n",
      "            {'C': 5.0, 'loss': 'hinge', 'penalty': 'l1'},\n",
      "            {'C': 5.0, 'loss': 'hinge', 'penalty': 'l2'},\n",
      "            {'C': 5.0, 'loss': 'squared_hinge', 'penalty': 'l1'},\n",
      "            {'C': 5.0, 'loss': 'squared_hinge', 'penalty': 'l2'},\n",
      "            {'C': 10.0, 'loss': 'hinge', 'penalty': 'l1'},\n",
      "            {'C': 10.0, 'loss': 'hinge', 'penalty': 'l2'},\n",
      "            {'C': 10.0, 'loss': 'squared_hinge', 'penalty': 'l1'},\n",
      "            {'C': 10.0, 'loss': 'squared_hinge', 'penalty': 'l2'}],\n",
      " 'rank_test_score': array([20, 10, 17,  2, 15,  8, 19,  2, 11,  8, 13,  1, 14,  5, 16,  2, 18,\n",
      "        5, 12,  5], dtype=int32),\n",
      " 'split0_test_score': array([       nan, 0.93333333,        nan, 1.        ,        nan,\n",
      "       1.        ,        nan, 1.        ,        nan, 1.        ,\n",
      "              nan, 1.        ,        nan, 1.        ,        nan,\n",
      "       1.        ,        nan, 1.        ,        nan, 1.        ]),\n",
      " 'split1_test_score': array([       nan, 0.8       ,        nan, 1.        ,        nan,\n",
      "       0.93333333,        nan, 1.        ,        nan, 0.93333333,\n",
      "              nan, 1.        ,        nan, 1.        ,        nan,\n",
      "       1.        ,        nan, 1.        ,        nan, 0.93333333]),\n",
      " 'split2_test_score': array([       nan, 0.8       ,        nan, 0.93333333,        nan,\n",
      "       0.93333333,        nan, 0.93333333,        nan, 0.93333333,\n",
      "              nan, 0.93333333,        nan, 0.93333333,        nan,\n",
      "       0.93333333,        nan, 0.93333333,        nan, 0.93333333]),\n",
      " 'split3_test_score': array([       nan, 0.93333333,        nan, 0.86666667,        nan,\n",
      "       0.8       ,        nan, 0.86666667,        nan, 0.8       ,\n",
      "              nan, 0.93333333,        nan, 0.8       ,        nan,\n",
      "       0.86666667,        nan, 0.8       ,        nan, 0.86666667]),\n",
      " 'split4_test_score': array([       nan, 0.86666667,        nan, 1.        ,        nan,\n",
      "       1.        ,        nan, 1.        ,        nan, 1.        ,\n",
      "              nan, 1.        ,        nan, 1.        ,        nan,\n",
      "       1.        ,        nan, 1.        ,        nan, 1.        ]),\n",
      " 'std_fit_time': array([1.07602127e-04, 1.76169319e-04, 7.72954946e-05, 3.66421399e-04,\n",
      "       1.08636796e-04, 3.43770113e-04, 1.15981952e-04, 1.88464722e-04,\n",
      "       1.44064777e-04, 4.34294881e-04, 1.92069960e-04, 1.68665700e-03,\n",
      "       2.61272651e-04, 3.87777551e-04, 1.69020808e-04, 3.19731365e-04,\n",
      "       1.18403054e-04, 4.51830581e-04, 1.13190596e-04, 1.80044139e-04]),\n",
      " 'std_score_time': array([0.00000000e+00, 1.07495574e-04, 0.00000000e+00, 1.64083775e-04,\n",
      "       0.00000000e+00, 1.07607959e-04, 0.00000000e+00, 1.07252263e-04,\n",
      "       0.00000000e+00, 1.28622561e-04, 0.00000000e+00, 2.04251982e-04,\n",
      "       0.00000000e+00, 8.45314610e-05, 0.00000000e+00, 5.50550987e-05,\n",
      "       0.00000000e+00, 6.93366811e-05, 0.00000000e+00, 4.98089223e-05]),\n",
      " 'std_test_score': array([       nan, 0.05962848,        nan, 0.05333333,        nan,\n",
      "       0.07302967,        nan, 0.05333333,        nan, 0.07302967,\n",
      "              nan, 0.03265986,        nan, 0.07774603,        nan,\n",
      "       0.05333333,        nan, 0.07774603,        nan, 0.04988877])}\n"
     ]
    }
   ],
   "source": [
    "pprint(search_model.cv_results_)"
   ]
  },
  {
   "cell_type": "code",
   "execution_count": 24,
   "metadata": {},
   "outputs": [
    {
     "data": {
      "text/plain": [
       "11"
      ]
     },
     "execution_count": 24,
     "metadata": {},
     "output_type": "execute_result"
    }
   ],
   "source": [
    "search_model.best_index_"
   ]
  },
  {
   "cell_type": "code",
   "execution_count": null,
   "metadata": {},
   "outputs": [],
   "source": []
  }
 ],
 "metadata": {
  "kernelspec": {
   "display_name": "Python 3",
   "language": "python",
   "name": "python3"
  },
  "language_info": {
   "codemirror_mode": {
    "name": "ipython",
    "version": 3
   },
   "file_extension": ".py",
   "mimetype": "text/x-python",
   "name": "python",
   "nbconvert_exporter": "python",
   "pygments_lexer": "ipython3",
   "version": "3.8.5"
  }
 },
 "nbformat": 4,
 "nbformat_minor": 4
}
