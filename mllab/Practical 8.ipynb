{
 "cells": [
  {
   "cell_type": "markdown",
   "metadata": {},
   "source": [
    "# Practical 8: Grid Search"
   ]
  },
  {
   "cell_type": "code",
   "execution_count": 1,
   "metadata": {},
   "outputs": [],
   "source": [
    "import numpy as np\n",
    "from sklearn.datasets import load_iris\n",
    "from sklearn.neighbors import KNeighborsClassifier\n",
    "from sklearn.model_selection import GridSearchCV\n",
    "from sklearn.metrics import confusion_matrix, classification_report, accuracy_score\n",
    "import matplotlib.pyplot as plt"
   ]
  },
  {
   "cell_type": "code",
   "execution_count": 2,
   "metadata": {},
   "outputs": [],
   "source": [
    "X, y = load_iris(return_X_y=True)\n",
    "\n",
    "X_train, y_train = X[0:150:2, ...], y[0:150:2]\n",
    "X_test, y_test = X[1:150:2, ...], y[1:150:2]"
   ]
  },
  {
   "cell_type": "code",
   "execution_count": 3,
   "metadata": {},
   "outputs": [],
   "source": [
    "param_grid = {\n",
    "    'n_neighbors': [1, 5, 10, 20],\n",
    "    'weights'    : ['distance', 'uniform']\n",
    "}"
   ]
  },
  {
   "cell_type": "code",
   "execution_count": 4,
   "metadata": {},
   "outputs": [],
   "source": [
    "knn_model = KNeighborsClassifier()"
   ]
  },
  {
   "cell_type": "code",
   "execution_count": 5,
   "metadata": {},
   "outputs": [],
   "source": [
    "search_model = GridSearchCV(knn_model, param_grid, n_jobs=-1, scoring='accuracy')"
   ]
  },
  {
   "cell_type": "code",
   "execution_count": 6,
   "metadata": {},
   "outputs": [
    {
     "data": {
      "text/plain": [
       "GridSearchCV(estimator=KNeighborsClassifier(), n_jobs=-1,\n",
       "             param_grid={'n_neighbors': [1, 5, 10, 20],\n",
       "                         'weights': ['distance', 'uniform']},\n",
       "             scoring='accuracy')"
      ]
     },
     "execution_count": 6,
     "metadata": {},
     "output_type": "execute_result"
    }
   ],
   "source": [
    "search_model.fit(X_train, y_train)"
   ]
  },
  {
   "cell_type": "code",
   "execution_count": 7,
   "metadata": {},
   "outputs": [
    {
     "name": "stdout",
     "output_type": "stream",
     "text": [
      "{'n_neighbors': 5, 'weights': 'distance'}\n"
     ]
    }
   ],
   "source": [
    "print(search_model.best_params_)"
   ]
  },
  {
   "cell_type": "code",
   "execution_count": 8,
   "metadata": {},
   "outputs": [],
   "source": [
    "y_pred = search_model.predict(X_test)"
   ]
  },
  {
   "cell_type": "code",
   "execution_count": 9,
   "metadata": {},
   "outputs": [
    {
     "name": "stdout",
     "output_type": "stream",
     "text": [
      "accuracy : 0.9866666666666667\n"
     ]
    }
   ],
   "source": [
    "print(f\"accuracy : {accuracy_score(y_test, y_pred)}\")"
   ]
  },
  {
   "cell_type": "code",
   "execution_count": 10,
   "metadata": {},
   "outputs": [
    {
     "name": "stdout",
     "output_type": "stream",
     "text": [
      "[[25  0  0]\n",
      " [ 0 24  1]\n",
      " [ 0  0 25]]\n"
     ]
    }
   ],
   "source": [
    "print(confusion_matrix(y_test, y_pred))"
   ]
  },
  {
   "cell_type": "code",
   "execution_count": 11,
   "metadata": {},
   "outputs": [
    {
     "name": "stdout",
     "output_type": "stream",
     "text": [
      "              precision    recall  f1-score   support\n",
      "\n",
      "           0       1.00      1.00      1.00        25\n",
      "           1       1.00      0.96      0.98        25\n",
      "           2       0.96      1.00      0.98        25\n",
      "\n",
      "    accuracy                           0.99        75\n",
      "   macro avg       0.99      0.99      0.99        75\n",
      "weighted avg       0.99      0.99      0.99        75\n",
      "\n"
     ]
    }
   ],
   "source": [
    "print(classification_report(y_test, y_pred))"
   ]
  },
  {
   "cell_type": "code",
   "execution_count": 47,
   "metadata": {},
   "outputs": [
    {
     "name": "stdout",
     "output_type": "stream",
     "text": [
      "{'mean_fit_time': array([0.00117993, 0.00080414, 0.00070376, 0.0012373 , 0.00111313,\n",
      "       0.00101461, 0.00096841, 0.00098515]),\n",
      " 'mean_score_time': array([0.00215125, 0.00181503, 0.00115652, 0.00266705, 0.00255475,\n",
      "       0.00233536, 0.0018867 , 0.00233688]),\n",
      " 'mean_test_score': array([0.94666667, 0.94666667, 0.96      , 0.96      , 0.96      ,\n",
      "       0.94666667, 0.93333333, 0.92      ]),\n",
      " 'param_n_neighbors': masked_array(data=[1, 1, 5, 5, 10, 10, 20, 20],\n",
      "             mask=[False, False, False, False, False, False, False, False],\n",
      "       fill_value='?',\n",
      "            dtype=object),\n",
      " 'param_weights': masked_array(data=['distance', 'uniform', 'distance', 'uniform',\n",
      "                   'distance', 'uniform', 'distance', 'uniform'],\n",
      "             mask=[False, False, False, False, False, False, False, False],\n",
      "       fill_value='?',\n",
      "            dtype=object),\n",
      " 'params': [{'n_neighbors': 1, 'weights': 'distance'},\n",
      "            {'n_neighbors': 1, 'weights': 'uniform'},\n",
      "            {'n_neighbors': 5, 'weights': 'distance'},\n",
      "            {'n_neighbors': 5, 'weights': 'uniform'},\n",
      "            {'n_neighbors': 10, 'weights': 'distance'},\n",
      "            {'n_neighbors': 10, 'weights': 'uniform'},\n",
      "            {'n_neighbors': 20, 'weights': 'distance'},\n",
      "            {'n_neighbors': 20, 'weights': 'uniform'}],\n",
      " 'rank_test_score': array([4, 4, 1, 1, 1, 4, 7, 8], dtype=int32),\n",
      " 'split0_test_score': array([0.93333333, 0.93333333, 0.93333333, 0.86666667, 0.93333333,\n",
      "       0.86666667, 0.8       , 0.8       ]),\n",
      " 'split1_test_score': array([1., 1., 1., 1., 1., 1., 1., 1.]),\n",
      " 'split2_test_score': array([0.86666667, 0.86666667, 0.93333333, 1.        , 0.93333333,\n",
      "       0.93333333, 0.93333333, 0.93333333]),\n",
      " 'split3_test_score': array([0.93333333, 0.93333333, 0.93333333, 0.93333333, 0.93333333,\n",
      "       0.93333333, 0.93333333, 0.93333333]),\n",
      " 'split4_test_score': array([1.        , 1.        , 1.        , 1.        , 1.        ,\n",
      "       1.        , 1.        , 0.93333333]),\n",
      " 'std_fit_time': array([6.98934953e-05, 2.67662820e-04, 7.32977043e-05, 4.89616445e-04,\n",
      "       7.80009110e-05, 8.46756733e-05, 1.24643391e-04, 1.31590901e-04]),\n",
      " 'std_score_time': array([0.00031487, 0.00058563, 0.00020912, 0.00115114, 0.00163565,\n",
      "       0.00016852, 0.00051637, 0.00026047]),\n",
      " 'std_test_score': array([0.04988877, 0.04988877, 0.03265986, 0.05333333, 0.03265986,\n",
      "       0.04988877, 0.07302967, 0.06531973])}\n"
     ]
    }
   ],
   "source": [
    "from pprint import pprint\n",
    "pprint(search_model.cv_results_)"
   ]
  },
  {
   "cell_type": "code",
   "execution_count": 51,
   "metadata": {},
   "outputs": [
    {
     "data": {
      "text/plain": [
       "2"
      ]
     },
     "execution_count": 51,
     "metadata": {},
     "output_type": "execute_result"
    }
   ],
   "source": [
    "search_model.best_index_"
   ]
  },
  {
   "cell_type": "code",
   "execution_count": null,
   "metadata": {},
   "outputs": [],
   "source": []
  }
 ],
 "metadata": {
  "kernelspec": {
   "display_name": "Python 3",
   "language": "python",
   "name": "python3"
  },
  "language_info": {
   "codemirror_mode": {
    "name": "ipython",
    "version": 3
   },
   "file_extension": ".py",
   "mimetype": "text/x-python",
   "name": "python",
   "nbconvert_exporter": "python",
   "pygments_lexer": "ipython3",
   "version": "3.8.5"
  }
 },
 "nbformat": 4,
 "nbformat_minor": 4
}
